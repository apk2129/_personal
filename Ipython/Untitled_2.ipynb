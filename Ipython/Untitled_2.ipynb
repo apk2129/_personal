{
 "cells": [
  {
   "cell_type": "code",
   "execution_count": null,
   "metadata": {
    "collapsed": false
   },
   "outputs": [],
   "source": [
    "class Leetcode:\n",
    "\n",
    "    def reverse_a_string(self, s):\n",
    "    \n",
    "        r = list(s)\n",
    "        i, j  = 0, len(r) - 1\n",
    "        \n",
    "        while i < j:\n",
    "            r[i], r[j] = r[j], r[i]\n",
    "            i += 1\n",
    "            j -= 1\n",
    "        return \"\".join(r)\n",
    "    \n",
    "    def reverse_a_sentence(self, s):\n",
    "        \n",
    "        if not s : return \"\"\n",
    "        result=''\n",
    "        \n",
    "        l = s.split()\n",
    "        \n",
    "        if len(l)==1 : \n",
    "            return self.reverse_a_string(l[0])\n",
    "        \n",
    "        for word in l:\n",
    "            result += self.reverse_a_string(word)+ ' '   \n",
    "            \n",
    "        print(result)\n",
    "        \n",
    "    \n",
    "        \n",
    "    "
   ]
  },
  {
   "cell_type": "code",
   "execution_count": null,
   "metadata": {
    "collapsed": false
   },
   "outputs": [],
   "source": [
    "get_answer = Leetcode()\n",
    "get_answer.reverse_a_string('anisha')\n",
    "get_answer.reverse_a_sentence('i am the king') #  i ma gink"
   ]
  },
  {
   "cell_type": "markdown",
   "metadata": {},
   "source": [
    "## hit counter with unique time hits ( one hit per sec )"
   ]
  },
  {
   "cell_type": "code",
   "execution_count": 171,
   "metadata": {
    "collapsed": false
   },
   "outputs": [
    {
     "name": "stdout",
     "output_type": "stream",
     "text": [
      "deque([4, 0, 0, 0, 0, 0, 0, 1, 0, 0], maxlen=10)\n"
     ]
    }
   ],
   "source": [
    "import collections\n",
    "SIZE = 10\n",
    "class HitCounter(object):\n",
    "    def __init__(self):\n",
    "        self.hit_deque = collections.deque([0]*SIZE, maxlen=SIZE)\n",
    "\n",
    "    def hit(self, timestamp):\n",
    "        \n",
    "        if timestamp<=SIZE:\n",
    "            self.hit_deque[timestamp-1] += 1\n",
    "            return\n",
    "        \n",
    "        index=0\n",
    "        t = timestamp%SIZE\n",
    "        for i in range(t-1):\n",
    "            index = i\n",
    "            self.hit_deque.append(0)\n",
    "        self.hit_deque[index+1] += 1\n",
    "        \n",
    "\n",
    "    def getHits(self, timestamp):\n",
    "        \"\"\"\n",
    "        Return the number of hits in the past 5 minutes.\n",
    "        @param timestamp - The current timestamp (in seconds granularity).\n",
    "        :type timestamp: int\n",
    "        :rtype: int\n",
    "        \"\"\"\n",
    "        if timestamp <= SIZE:\n",
    "            return sum(self.hit_deque)\n",
    "        else:\n",
    "            t = timestamp%SIZE\n",
    "            for i in range(t):\n",
    "                self.hit_deque.append(0)\n",
    "            return sum(self.hit_deque)\n",
    "\n",
    "\n",
    "# Your HitCounter object will be instantiated and called as such:\n",
    "obj = HitCounter()\n",
    "obj.hit(1)\n",
    "obj.hit(1)\n",
    "obj.hit(1)\n",
    "obj.hit(1)\n",
    "obj.hit(8)\n",
    "# obj.hit(11)\n",
    "\n",
    "print(obj.hit_deque)"
   ]
  },
  {
   "cell_type": "markdown",
   "metadata": {},
   "source": [
    "## hit counter with multiple time hits ( multiple hits per sec )"
   ]
  },
  {
   "cell_type": "code",
   "execution_count": 152,
   "metadata": {
    "collapsed": false
   },
   "outputs": [
    {
     "data": {
      "text/plain": [
       "0"
      ]
     },
     "execution_count": 152,
     "metadata": {},
     "output_type": "execute_result"
    }
   ],
   "source": [
    "300%10"
   ]
  },
  {
   "cell_type": "code",
   "execution_count": 176,
   "metadata": {
    "collapsed": false
   },
   "outputs": [
    {
     "ename": "TypeError",
     "evalue": "'int' object has no attribute '__getitem__'",
     "output_type": "error",
     "traceback": [
      "\u001b[0;31m---------------------------------------------------------------------------\u001b[0m",
      "\u001b[0;31mTypeError\u001b[0m                                 Traceback (most recent call last)",
      "\u001b[0;32m<ipython-input-176-c91802f494fb>\u001b[0m in \u001b[0;36m<module>\u001b[0;34m()\u001b[0m\n\u001b[1;32m      6\u001b[0m \u001b[0md\u001b[0m\u001b[0;34m.\u001b[0m\u001b[0mappend\u001b[0m\u001b[0;34m(\u001b[0m\u001b[0;36m2\u001b[0m\u001b[0;34m)\u001b[0m\u001b[0;34m\u001b[0m\u001b[0m\n\u001b[1;32m      7\u001b[0m \u001b[0;34m\u001b[0m\u001b[0m\n\u001b[0;32m----> 8\u001b[0;31m \u001b[0md\u001b[0m\u001b[0;34m[\u001b[0m\u001b[0;34m-\u001b[0m\u001b[0;36m1\u001b[0m\u001b[0;34m]\u001b[0m\u001b[0;34m[\u001b[0m\u001b[0;36m0\u001b[0m\u001b[0;34m]\u001b[0m\u001b[0;34m\u001b[0m\u001b[0m\n\u001b[0m",
      "\u001b[0;31mTypeError\u001b[0m: 'int' object has no attribute '__getitem__'"
     ]
    }
   ],
   "source": [
    "d = collections.deque()\n",
    "d.append(1)\n",
    "d.append(1)\n",
    "d.append(1)\n",
    "d.append(1)\n",
    "d.append(2)\n",
    "\n",
    "d[-1][0]"
   ]
  },
  {
   "cell_type": "code",
   "execution_count": 185,
   "metadata": {
    "collapsed": true
   },
   "outputs": [],
   "source": [
    "l = [0,1,2,3,4,5,6,7,8,9,10,11][1:]"
   ]
  },
  {
   "cell_type": "code",
   "execution_count": 186,
   "metadata": {
    "collapsed": false
   },
   "outputs": [
    {
     "data": {
      "text/plain": [
       "[1, 2, 3, 4, 5, 6, 7, 8, 9, 10, 11]"
      ]
     },
     "execution_count": 186,
     "metadata": {},
     "output_type": "execute_result"
    }
   ],
   "source": [
    "l"
   ]
  },
  {
   "cell_type": "code",
   "execution_count": 179,
   "metadata": {
    "collapsed": false
   },
   "outputs": [
    {
     "ename": "IndexError",
     "evalue": "list index out of range",
     "output_type": "error",
     "traceback": [
      "\u001b[0;31m---------------------------------------------------------------------------\u001b[0m",
      "\u001b[0;31mIndexError\u001b[0m                                Traceback (most recent call last)",
      "\u001b[0;32m<ipython-input-179-e4a648ff0fa9>\u001b[0m in \u001b[0;36m<module>\u001b[0;34m()\u001b[0m\n\u001b[0;32m----> 1\u001b[0;31m \u001b[0ml\u001b[0m\u001b[0;34m[\u001b[0m\u001b[0;36m10\u001b[0m\u001b[0;34m]\u001b[0m\u001b[0;34m\u001b[0m\u001b[0m\n\u001b[0m",
      "\u001b[0;31mIndexError\u001b[0m: list index out of range"
     ]
    }
   ],
   "source": [
    "l[1]"
   ]
  },
  {
   "cell_type": "code",
   "execution_count": null,
   "metadata": {
    "collapsed": true
   },
   "outputs": [],
   "source": []
  }
 ],
 "metadata": {
  "kernelspec": {
   "display_name": "Python 2",
   "language": "python",
   "name": "python2"
  },
  "language_info": {
   "codemirror_mode": {
    "name": "ipython",
    "version": 2
   },
   "file_extension": ".py",
   "mimetype": "text/x-python",
   "name": "python",
   "nbconvert_exporter": "python",
   "pygments_lexer": "ipython2",
   "version": "2.7.11"
  }
 },
 "nbformat": 4,
 "nbformat_minor": 0
}
