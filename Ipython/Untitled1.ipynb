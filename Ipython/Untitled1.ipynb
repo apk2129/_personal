{
 "cells": [
  {
   "cell_type": "code",
   "execution_count": 13,
   "metadata": {
    "collapsed": false
   },
   "outputs": [
    {
     "name": "stdout",
     "output_type": "stream",
     "text": [
      "[0, 0, 0, 0, 0, 0]\n",
      "[0, 0, 0, 0, 0, 0]\n",
      "[0, 0, 0, 0, 0, 0]\n",
      "=------------\n",
      "[0, 0, 0, 0, 0, 0]\n",
      "[0, 0, 0, 0, 0, 0]\n",
      "[0, 0, 0, 0, 0, 0]\n",
      "=------------\n",
      "[0, 0, 0, 0, 0, 0]\n",
      "[0, 1, 2, 3, 4, 5]\n",
      "[0, 0, 0, 0, 0, 0]\n",
      "=------------\n",
      "Minimum number of trials in worst case with2eggs and 5 floors is None\n"
     ]
    }
   ],
   "source": [
    "INT_MAX = 32767\n",
    " \n",
    "def eggDrop(eggs, floors):\n",
    "\n",
    "    egg_matrix = [[0 for x in range(floors+1)] for x in range(eggs+1)]\n",
    "    \n",
    "    for e in egg_matrix:\n",
    "        print(e) \n",
    "    print(\"=------------\")\n",
    "    \n",
    "#     for i in range(1, eggs+1):\n",
    "#         egg_matrix[i][1] = 1\n",
    "#         egg_matrix[i][0] = 0\n",
    "        \n",
    "    for e in egg_matrix:\n",
    "        print(e)\n",
    "    print(\"=------------\")\n",
    "\n",
    "    # We always need j trials for one egg and j floors.\n",
    "    for j in range(1, k+1):\n",
    "        egg_matrix[1][j] = j\n",
    "    \n",
    "    for e in egg_matrix:\n",
    "        print(e)\n",
    "    print(\"=------------\")\n",
    "\n",
    " \n",
    "#     # Fill rest of the entries in table using optimal substructure\n",
    "#     # property\n",
    "    for egg in range(2, eggs+1):\n",
    "        for floor in range(2, k+1):\n",
    "            \n",
    "            eggFloor[i][j] = INT_MAX\n",
    "            for x in range(1, j+1):\n",
    "                res = 1 + max(eggFloor[i-1][x-1], eggFloor[i][j-x])\n",
    "                if res < eggFloor[i][j]:\n",
    "                    eggFloor[i][j] = res\n",
    " \n",
    "    # eggFloor[n][k] holds the result\n",
    "    return eggFloor[n][k]\n",
    " \n",
    "# Driver program to test to pront printDups\n",
    "n = 2\n",
    "k = 5\n",
    "print(\"Minimum number of trials in worst case with\" + str(n) + \"eggs and \" \\\n",
    "       + str(k) + \" floors is \" + str(eggDrop(n, k)))\n",
    " \n",
    "# This code is contributed by Bhavya Jain"
   ]
  },
  {
   "cell_type": "code",
   "execution_count": 5,
   "metadata": {
    "collapsed": false
   },
   "outputs": [
    {
     "name": "stdout",
     "output_type": "stream",
     "text": [
      "tim\n"
     ]
    }
   ],
   "source": [
    "if \"leet\" in \"leetcode\": print 'tim'"
   ]
  },
  {
   "cell_type": "code",
   "execution_count": 17,
   "metadata": {
    "collapsed": false
   },
   "outputs": [
    {
     "name": "stdout",
     "output_type": "stream",
     "text": [
      "(-100, -93)\n",
      "(7, -93)\n",
      "-------\n",
      "(30, -63)\n",
      "(30, 30)\n",
      "-------\n",
      "(140, 170)\n",
      "(170, 170)\n",
      "-------\n"
     ]
    },
    {
     "data": {
      "text/plain": [
       "170"
      ]
     },
     "execution_count": 17,
     "metadata": {},
     "output_type": "execute_result"
    }
   ],
   "source": [
    "def maxSubArray( A):\n",
    "    if not A:\n",
    "        return 0\n",
    "\n",
    "    curSum = maxSum = A[0]\n",
    "    for num in A[1:]:\n",
    "        print(num, curSum + num)\n",
    "        curSum = max(num, curSum + num)\n",
    "        maxSum = max(maxSum, curSum)\n",
    "        print(maxSum, curSum)\n",
    "        print(\"-------\")\n",
    "\n",
    "    return maxSum\n",
    "\n",
    "maxSubArray([7,-100,30,140])"
   ]
  },
  {
   "cell_type": "code",
   "execution_count": null,
   "metadata": {
    "collapsed": true
   },
   "outputs": [],
   "source": []
  }
 ],
 "metadata": {
  "kernelspec": {
   "display_name": "Python 2",
   "language": "python",
   "name": "python2"
  },
  "language_info": {
   "codemirror_mode": {
    "name": "ipython",
    "version": 2
   },
   "file_extension": ".py",
   "mimetype": "text/x-python",
   "name": "python",
   "nbconvert_exporter": "python",
   "pygments_lexer": "ipython2",
   "version": "2.7.11"
  }
 },
 "nbformat": 4,
 "nbformat_minor": 0
}
