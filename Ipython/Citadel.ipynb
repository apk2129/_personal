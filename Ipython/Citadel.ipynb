{
 "cells": [
  {
   "cell_type": "code",
   "execution_count": null,
   "metadata": {
    "collapsed": false
   },
   "outputs": [],
   "source": [
    "class MovingAverage(object):\n",
    "\n",
    "    def __init__(self, size):\n",
    "        \"\"\"\n",
    "        Initialize your data structure here.\n",
    "        :type size: int\n",
    "        \"\"\"\n",
    "        self.window = size\n",
    "        self.stream = []\n",
    "\n",
    "    def next(self, val):\n",
    "        \"\"\"\n",
    "        :type val: int\n",
    "        :rtype: float\n",
    "        \"\"\"\n",
    "        self.stream.append(val)\n",
    "        s = self.stream[-self.window:]\n",
    "        \n",
    "        return float(sum(s))/len(s)\n",
    "\n",
    "\n",
    "# Your MovingAverage object will be instantiated and called as such:\n",
    "# obj = MovingAverage(size)\n",
    "# param_1 = obj.next(val)"
   ]
  },
  {
   "cell_type": "code",
   "execution_count": null,
   "metadata": {
    "collapsed": false
   },
   "outputs": [],
   "source": [
    "import collections\n",
    "import cProfile\n",
    "class MovingAverage(object):\n",
    "\n",
    "    def __init__(self, size):\n",
    "        \"\"\"\n",
    "        Initialize your data structure here.\n",
    "        :type size: int\n",
    "        \"\"\"\n",
    "        self.queue = collections.deque(maxlen=size)\n",
    "        \n",
    "\n",
    "    def next(self, val):\n",
    "        \"\"\"\n",
    "        :type val: int\n",
    "        :rtype: float\n",
    "        \"\"\"\n",
    "        queue = self.queue\n",
    "        queue.append(val)\n",
    "        return float(sum(queue))/len(queue)\n",
    "\n",
    "# Your MovingAverage object will be instantiated and called as such:\n",
    "def f():\n",
    "    m = MovingAverage(3)\n",
    "    print(m.next(1))\n",
    "    print(m.next(10))\n",
    "    print(m.next(3))\n",
    "    print(m.next(5))\n",
    "\n",
    "cProfile.run('foo()')\n"
   ]
  },
  {
   "cell_type": "code",
   "execution_count": 49,
   "metadata": {
    "collapsed": false
   },
   "outputs": [
    {
     "name": "stdout",
     "output_type": "stream",
     "text": [
      "[34]\n",
      "[34]\n",
      "*********\n",
      "[34, 22]\n",
      "[34, 22]\n",
      "*********\n",
      "[34, 22, 4]\n",
      "[34, 22, 4]\n",
      "20\n",
      "--------\n",
      "[34, 22, 4, 55]\n",
      "[22, 4, 55]\n",
      "27\n",
      "--------\n",
      "[34, 22, 4, 55, 2]\n",
      "[4, 55, 2]\n",
      "20\n",
      "--------\n",
      "[34, 22, 4, 55, 2, 44]\n",
      "[55, 2, 44]\n",
      "33\n",
      "--------\n",
      "[34, 22, 4, 55, 2, 44, 33]\n",
      "[2, 44, 33]\n",
      "26\n",
      "--------\n",
      "[34, 22, 4, 55, 2, 44, 33, 44]\n",
      "[44, 33, 44]\n",
      "40\n",
      "--------\n",
      "[34, 22, 4, 55, 2, 44, 33, 44, 223]\n",
      "[33, 44, 223]\n",
      "100\n",
      "--------\n",
      "[34, 22, 4, 55, 2, 44, 33, 44, 223, 2424]\n",
      "[44, 223, 2424]\n",
      "897\n",
      "--------\n",
      "[34, 22, 4, 55, 2, 44, 33, 44, 223, 2424, 2424]\n",
      "[223, 2424, 2424]\n",
      "1690\n",
      "--------\n"
     ]
    }
   ],
   "source": [
    "L = [34 ,22 ,4, 55, 2, 44, 33,44,223,2424,2424 ]\n",
    "\n",
    "\n",
    "stream = []\n",
    "\n",
    "def sma ( i,  window=3 ):\n",
    "        \n",
    "        stream.append(i)\n",
    "        print(stream)\n",
    "        temp = stream[-window:]\n",
    "        print(temp)\n",
    "        if len(temp) < window : \n",
    "            print(\"*********\")\n",
    "            return None\n",
    "            \n",
    "        avg = sum(temp)/window\n",
    "        print(avg)\n",
    "        print(\"--------\")\n",
    "\n",
    "\n",
    "for i in L:\n",
    "    sma(i)\n",
    "    \n",
    "    \n",
    "\n",
    "    \n"
   ]
  },
  {
   "cell_type": "code",
   "execution_count": 42,
   "metadata": {
    "collapsed": false
   },
   "outputs": [
    {
     "data": {
      "text/plain": [
       "array([[1, 3, 1],\n",
       "       [1, 4, 1],\n",
       "       [1, 1, 1]])"
      ]
     },
     "execution_count": 42,
     "metadata": {},
     "output_type": "execute_result"
    }
   ],
   "source": [
    "import numpy as np\n",
    "\n",
    "a = np.array([[1,1,1],[1,4,1],[1,1,1]])\n",
    "b = np.array([[1,3,1],[1,1,1],[1,1,1]])\n",
    "\n",
    "a*b"
   ]
  },
  {
   "cell_type": "code",
   "execution_count": 44,
   "metadata": {
    "collapsed": false
   },
   "outputs": [],
   "source": [
    "a = [[1,1,1],\n",
    "     [1,4,1],\n",
    "     [1,1,1]]\n",
    "b = [[1,3,1],\n",
    "     [1,1,1],\n",
    "     [1,1,1]]\n",
    "\n",
    "def matrixmult (A, B):\n",
    "    rows_A = len(A)\n",
    "    cols_A = len(A[0])\n",
    "    rows_B = len(B)\n",
    "    cols_B = len(B[0])\n",
    "\n",
    "    if cols_A != rows_B:\n",
    "      print(\"Cannot multiply the two matrices. Incorrect dimensions.\")\n",
    "      return\n",
    "\n",
    "    # Create the result matrix\n",
    "    # Dimensions would be rows_A x cols_B\n",
    "    C = [[0 for row in range(cols_B)] for col in range(rows_A)]\n",
    "    #print C\n",
    "\n",
    "    for i in range(rows_A):\n",
    "        for j in range(cols_B):\n",
    "            for k in range(cols_A):\n",
    "                C[i][j] += A[i][k] * B[k][j]\n",
    "        \n",
    "    return C"
   ]
  },
  {
   "cell_type": "code",
   "execution_count": 3,
   "metadata": {
    "collapsed": true
   },
   "outputs": [],
   "source": [
    "def print_spiral(matrix):\n",
    "    print_spiral_help(matrix, 0, 0, 0, len(matrix[0]) - 1, len(matrix) - 1)\n",
    "\n",
    "def print_spiral_help(matrix, dir, top, left, right, bot):\n",
    "    if left > right or top > bot:\n",
    "        return\n",
    "\n",
    "    # top\n",
    "    if dir == 0:\n",
    "        for i in range(left, right + 1):\n",
    "            print matrix[top][i],\n",
    "        print_spiral_help(matrix, 1, top + 1, left, right, bot)\n",
    "    # Right\n",
    "    elif dir == 1:\n",
    "        for i in range(top, bot + 1):\n",
    "            print matrix[i][right],\n",
    "        print_spiral_help(matrix, 3, top, left, right - 1, bot)\n",
    "    # Left\n",
    "    elif dir == 2:\n",
    "        for i in range(bot, top - 1, -1):\n",
    "            print matrix[i][left],\n",
    "        print_spiral_help(matrix, 0, top, left + 1, right, bot)\n",
    "    # Bottom\n",
    "    elif dir == 3:\n",
    "        for i in range(right, left - 1, -1):\n",
    "            print matrix[bot][i],\n",
    "        print_spiral_help(matrix, 2, top, left, right, bot - 1)\n",
    "\n"
   ]
  },
  {
   "cell_type": "code",
   "execution_count": 5,
   "metadata": {
    "collapsed": false
   },
   "outputs": [
    {
     "name": "stdout",
     "output_type": "stream",
     "text": [
      "1 2 3 4 5 6 7 8 9\n"
     ]
    }
   ],
   "source": [
    "print_spiral([[1,2,3],[8,9,4],[7,6,5]])"
   ]
  },
  {
   "cell_type": "code",
   "execution_count": 2,
   "metadata": {
    "collapsed": false
   },
   "outputs": [
    {
     "name": "stdout",
     "output_type": "stream",
     "text": [
      "(0, 0)\n",
      "(1, 0)\n",
      "(1, 1)\n",
      "(0, 1)\n",
      "(-1, 1)\n",
      "(-1, 0)\n",
      "(-1, -1)\n",
      "(0, -1)\n",
      "(1, -1)\n"
     ]
    }
   ],
   "source": [
    "def spiral(X, Y):\n",
    "    \n",
    "    x = y = 0\n",
    "    dx = 0\n",
    "    dy = -1\n",
    "    \n",
    "    for i in range(max(X, Y)**2):\n",
    "        if (-X/2 < x <= X/2) and (-Y/2 < y <= Y/2):\n",
    "            print (x, y)\n",
    "            # DO STUFF...\n",
    "        if x == y or (x < 0 and x == -y) or (x > 0 and x == 1-y):\n",
    "            dx, dy = -dy, dx\n",
    "        x, y = x+dx, y+dy\n",
    "\n",
    "\n",
    "\n",
    "\n",
    "spiral(3,3)\n"
   ]
  },
  {
   "cell_type": "code",
   "execution_count": 8,
   "metadata": {
    "collapsed": false
   },
   "outputs": [
    {
     "name": "stdout",
     "output_type": "stream",
     "text": [
      "('8', '0', 0)\n",
      "('0', '9', 0)\n",
      "('9', '7', 63)\n",
      "('7', '2', 14)\n",
      "('2', '3', 6)\n"
     ]
    }
   ],
   "source": [
    "s = '809723'\n",
    "\n",
    "for i in range(len(s)-1):\n",
    "    print(s[i],s[i+1],int(s[i])*int(s[i+1]))\n",
    "    "
   ]
  },
  {
   "cell_type": "markdown",
   "metadata": {
    "collapsed": true
   },
   "source": [
    "## fibonnaci"
   ]
  },
  {
   "cell_type": "code",
   "execution_count": 4,
   "metadata": {
    "collapsed": false
   },
   "outputs": [
    {
     "name": "stdout",
     "output_type": "stream",
     "text": [
      "[0, 1, 1, 2, 3, 5, 8, 13, 21, 34]\n"
     ]
    }
   ],
   "source": [
    "# 0 1 1 2 3 5 8 13 ..\n",
    "\n",
    "# print fibanacci series\n",
    "def fib(n):\n",
    "    \n",
    "    series = []\n",
    "    \n",
    "    for i in range(10):\n",
    "        if i==0 or i==1:\n",
    "            series.append(i)\n",
    "        else:\n",
    "            series.append(series[i-1]+ series[i-2])\n",
    "    print(series)\n",
    "        \n",
    "fib(1)\n",
    "    "
   ]
  },
  {
   "cell_type": "code",
   "execution_count": null,
   "metadata": {
    "collapsed": true
   },
   "outputs": [],
   "source": [
    "fibonacci from wikipedia"
   ]
  },
  {
   "cell_type": "code",
   "execution_count": 9,
   "metadata": {
    "collapsed": false
   },
   "outputs": [
    {
     "name": "stdout",
     "output_type": "stream",
     "text": [
      "3524578.0\n"
     ]
    }
   ],
   "source": [
    "from math import sqrt\n",
    "def F(n):\n",
    "    return ((1+sqrt(5))**n-(1-sqrt(5))**n)/(2**n*sqrt(5))\n",
    "print(F(33))"
   ]
  },
  {
   "cell_type": "markdown",
   "metadata": {
    "collapsed": true
   },
   "source": [
    "## ctci 1.6 String compression"
   ]
  },
  {
   "cell_type": "code",
   "execution_count": 6,
   "metadata": {
    "collapsed": false
   },
   "outputs": [
    {
     "data": {
      "text/plain": [
       "'a6c7b4'"
      ]
     },
     "execution_count": 6,
     "metadata": {},
     "output_type": "execute_result"
    }
   ],
   "source": [
    "s = 'aaaaaabbbbccccccc'\n",
    "from collections import Counter\n",
    "r = ''\n",
    "for k,v in Counter(s).iteritems():\n",
    "    r += k + str(v)\n",
    "r"
   ]
  },
  {
   "cell_type": "code",
   "execution_count": 50,
   "metadata": {
    "collapsed": false
   },
   "outputs": [
    {
     "name": "stdout",
     "output_type": "stream",
     "text": [
      "[1, 1, 1, 1]\n",
      "[1, 1, 1, 1]\n",
      "[1, 1, 1, 1]\n",
      "[1, 1, 1, 1]\n",
      "---------------------\n",
      "[1, 1, 1, 1]\n",
      "[1, 2, 3, 4]\n",
      "[1, 3, 6, 10]\n",
      "[1, 4, 10, 20]\n"
     ]
    }
   ],
   "source": [
    "m = 4\n",
    "n = 4\n",
    "\n",
    "aux = [[1 for x in range(n)] for x in range(m)]\n",
    "#aux = [[1]*m]*n\n",
    "for r in aux:\n",
    "    print(r)\n",
    "\n",
    "print(\"---------------------\")\n",
    "\n",
    "for i in range(1,m):\n",
    "    for j in range(1,n):\n",
    "        aux[i][j] = aux[i-1][j] + aux[i][j-1]\n",
    "for r in aux:\n",
    "    print(r)"
   ]
  },
  {
   "cell_type": "code",
   "execution_count": null,
   "metadata": {
    "collapsed": true
   },
   "outputs": [],
   "source": []
  }
 ],
 "metadata": {
  "kernelspec": {
   "display_name": "Python 2",
   "language": "python",
   "name": "python2"
  },
  "language_info": {
   "codemirror_mode": {
    "name": "ipython",
    "version": 2
   },
   "file_extension": ".py",
   "mimetype": "text/x-python",
   "name": "python",
   "nbconvert_exporter": "python",
   "pygments_lexer": "ipython2",
   "version": "2.7.11"
  }
 },
 "nbformat": 4,
 "nbformat_minor": 0
}
