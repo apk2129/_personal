{
 "cells": [
  {
   "cell_type": "code",
   "execution_count": 5,
   "metadata": {
    "collapsed": false
   },
   "outputs": [
    {
     "name": "stdout",
     "output_type": "stream",
     "text": [
      "0.964876033058\n",
      "0.810597599854\n"
     ]
    }
   ],
   "source": [
    "import numpy as np\n",
    "from sklearn.linear_model import LinearRegression\n",
    "import matplotlib.pyplot as plt\n",
    "\n",
    "\n",
    "X_input_age_train = np.array([[10],[25],[35],[40],[50]])\n",
    "Y_output_networth_train = np.array([100,200,300,400,500])\n",
    "\n",
    "\n",
    "reg = LinearRegression(fit_intercept=False)\n",
    "reg.fit(X_input_age_train, Y_output_networth_train)\n",
    "# X : numpy array or sparse matrix of shape [n_samples,n_features]\n",
    "# Training data\n",
    "# y : numpy array of shape [n_samples, n_targets]\n",
    "# Target values\n",
    "# Returns:\t\n",
    "# self : returns an instance of self\n",
    "\n",
    "# print(reg.predict([60][0][0]))\n",
    "# print(reg.coef_) #SLOPE !\n",
    "# print(reg.intercept_)\n",
    "\n",
    "\n",
    "''' evaluate regression calculate score on test data = R S Q U A R E'''\n",
    "#   R S Q U A R E : \n",
    "#      higher the better. maximum 1\n",
    "#      lower score == overfitting \n",
    "\n",
    "\n",
    "X_input_age_test = np.array([[60],[70],[80],[90],[100]])\n",
    "Y_output_networth_test = np.array([600,700,800,900,1100])\n",
    "\n",
    "print(reg.score(X_input_age_train, Y_output_networth_train))\n",
    "print(reg.score(X_input_age_test, Y_output_networth_test))\n",
    "\n",
    "\n",
    "''' evalue and quanitfy errors '''\n",
    "#   error = actual networth - predicted networth\n",
    "#   GOOD FIT = sum ( abs(  error on all data points^2 ) )\n",
    "\n",
    "\n",
    "'''-------------------| l i n e a r   r e g r e s s i o n |----------------------------'''\n",
    "# MINIMIZING SUM OF SQUARED ERRORS\n",
    "# ALGORITHMS TO FIND MIN SE =  OLS , GRADIENT DESCENT\n",
    "\n",
    "plt.scatter(X_input_age_train,Y_output_networth_train)\n",
    "plt.plot(X_input_age_train, reg.predict(X_input_age_test), color=\"blue\", linewidth=3)\n",
    "plt.show()"
   ]
  },
  {
   "cell_type": "code",
   "execution_count": null,
   "metadata": {
    "collapsed": true
   },
   "outputs": [],
   "source": []
  }
 ],
 "metadata": {
  "kernelspec": {
   "display_name": "Python 2",
   "language": "python",
   "name": "python2"
  },
  "language_info": {
   "codemirror_mode": {
    "name": "ipython",
    "version": 2
   },
   "file_extension": ".py",
   "mimetype": "text/x-python",
   "name": "python",
   "nbconvert_exporter": "python",
   "pygments_lexer": "ipython2",
   "version": "2.7.11"
  }
 },
 "nbformat": 4,
 "nbformat_minor": 0
}
